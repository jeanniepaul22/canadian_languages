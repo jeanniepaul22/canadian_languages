{
 "cells": [
  {
   "cell_type": "markdown",
   "id": "54c97d40-820f-49e0-b39e-a5f59003db8e",
   "metadata": {},
   "source": [
    "# Canadian Languages\n",
    "\n",
    "This project aims to understand what languages Canadian residents speak, and where they speak them. "
   ]
  },
  {
   "cell_type": "code",
   "execution_count": null,
   "id": "03ce6bd0-e28b-4f38-b94f-905db8ba1b2a",
   "metadata": {},
   "outputs": [],
   "source": []
  },
  {
   "cell_type": "code",
   "execution_count": null,
   "id": "d155c969-0e59-40f9-bbb5-be88c7e83ad7",
   "metadata": {},
   "outputs": [],
   "source": []
  }
 ],
 "metadata": {
  "kernelspec": {
   "display_name": "Python 3 (ipykernel)",
   "language": "python",
   "name": "python3"
  },
  "language_info": {
   "codemirror_mode": {
    "name": "ipython",
    "version": 3
   },
   "file_extension": ".py",
   "mimetype": "text/x-python",
   "name": "python",
   "nbconvert_exporter": "python",
   "pygments_lexer": "ipython3",
   "version": "3.10.8"
  }
 },
 "nbformat": 4,
 "nbformat_minor": 5
}
